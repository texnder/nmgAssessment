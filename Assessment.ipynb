{
 "cells": [
  {
   "cell_type": "markdown",
   "id": "92471914",
   "metadata": {},
   "source": [
    "# Implement the Sieve of Eratosthenes Algorithm for Finding All Prime Numbers Up to a Given Limit"
   ]
  },
  {
   "cell_type": "code",
   "execution_count": 1,
   "id": "357e7434",
   "metadata": {},
   "outputs": [],
   "source": [
    "def sieve_of_eratosthenes(limit):\n",
    "\n",
    "    is_prime = [True] * (limit +1)\n",
    "    \n",
    "    # smallest prime number\n",
    "    p = 2\n",
    "    \n",
    "    while p ** 2 <= limit:\n",
    "        # Mark all multiples of p as non-prime\n",
    "        if is_prime[p]:\n",
    "            for i in range(p ** 2, limit + 1, p):\n",
    "                is_prime[i] = False\n",
    "        p += 1\n",
    "    \n",
    "    primes = [i for i in range(2, limit + 1) if is_prime[i]]\n",
    "    \n",
    "    return primes\n"
   ]
  },
  {
   "cell_type": "code",
   "execution_count": 2,
   "id": "1d0587e8",
   "metadata": {},
   "outputs": [
    {
     "data": {
      "text/plain": [
       "[2, 3, 5, 7, 11, 13, 17, 19, 23, 29, 31, 37, 41, 43, 47]"
      ]
     },
     "execution_count": 2,
     "metadata": {},
     "output_type": "execute_result"
    }
   ],
   "source": [
    "sieve_of_eratosthenes(49)"
   ]
  },
  {
   "cell_type": "markdown",
   "id": "b1f2df6d",
   "metadata": {},
   "source": [
    "# Implement the Floyd Warshall Algorithm for All Pairs Shortest Paths"
   ]
  },
  {
   "cell_type": "code",
   "execution_count": 3,
   "id": "a54d589a",
   "metadata": {},
   "outputs": [],
   "source": [
    "import sys\n",
    "\n",
    "# formula for floyd_warshall:\n",
    "# let A is graph matrix, k = length of A, {i,j} index of A \n",
    "# A**k{i,j} = min{A**k-1{i,j}, A**k-1{i,k} + A**k-1{k,j}}\n",
    "\n",
    "def floyd_warshall(graph):\n",
    "    num_vertices = len(graph)\n",
    "    \n",
    "    # copy of input grap with default value infinity\n",
    "    dist = [[float('inf')] * num_vertices for _ in range(num_vertices)]\n",
    "    \n",
    "    # Initialize distances with direct edges in the graph, \n",
    "    # replace 0 with infinity\n",
    "    for i in range(num_vertices):\n",
    "        for j in range(num_vertices):\n",
    "            if i == j:\n",
    "                dist[i][j] = 0\n",
    "            elif graph[i][j] != 0:\n",
    "                dist[i][j] = graph[i][j]\n",
    "    \n",
    "    \n",
    "    # Calculate the shortest paths using dynamic programming\n",
    "    for k in range(num_vertices):\n",
    "        for i in range(num_vertices):\n",
    "            for j in range(num_vertices):\n",
    "                if dist[i][k] != float('inf') and dist[k][j] != float('inf'):\n",
    "                    dist[i][j] = min(dist[i][j], dist[i][k] + dist[k][j])\n",
    "    \n",
    "    return dist\n"
   ]
  },
  {
   "cell_type": "code",
   "execution_count": 4,
   "id": "53ac6b4b",
   "metadata": {},
   "outputs": [
    {
     "name": "stdout",
     "output_type": "stream",
     "text": [
      "Shortest Distances between All Pairs:\n",
      "[0, 3, 5, 6]\n",
      "[5, 0, 2, 3]\n",
      "[3, 6, 0, 1]\n",
      "[2, 5, 7, 0]\n"
     ]
    }
   ],
   "source": [
    "graph = [\n",
    "    [0, 3, 0, 7],\n",
    "    [8, 0, 2, 0],\n",
    "    [5, 0, 0, 1],\n",
    "    [2, 0, 0, 0],\n",
    "]\n",
    "\n",
    "result = floyd_warshall(graph)\n",
    "\n",
    "print(\"Shortest Distances between All Pairs:\")\n",
    "for row in result:\n",
    "    print(row)"
   ]
  },
  {
   "cell_type": "markdown",
   "id": "99a90893",
   "metadata": {},
   "source": [
    "# Solve the Travelling Salesman Problem using Dynamic Programming"
   ]
  },
  {
   "cell_type": "code",
   "execution_count": 5,
   "id": "4a9c0340",
   "metadata": {},
   "outputs": [],
   "source": [
    "import sys\n",
    "\n",
    "def tsp_dp(graph, start):\n",
    "    num_cities = len(graph)\n",
    "    all_cities = frozenset(range(num_cities))\n",
    "    memo = {}  # Dictionary to store subproblem solutions\n",
    "    \n",
    "\n",
    "    def find_shortest_path(curr_city, remaining_cities):\n",
    "        \n",
    "        if not remaining_cities:\n",
    "            return graph[curr_city][start]\n",
    "        \n",
    "        if (curr_city, remaining_cities) in memo:\n",
    "            # in case of same set occurs during recursion.\n",
    "            return memo[(curr_city, remaining_cities)]\n",
    "        \n",
    "        min_distance = sys.maxsize\n",
    "        \n",
    "        for next_city in remaining_cities:\n",
    "            distance = graph[curr_city][next_city] + find_shortest_path(next_city, remaining_cities - {next_city})\n",
    "            min_distance = min(min_distance, distance)\n",
    "        \n",
    "        # Memoize result to break the recursion loop in case of same recursion happend\n",
    "        memo[(curr_city, remaining_cities)] = min_distance\n",
    "        \n",
    "        return min_distance\n",
    "    \n",
    "    \n",
    "    # Find the shortest path starting from the 'start' city and visiting all other cities\n",
    "    remaining_cities = all_cities - {start}\n",
    "    min_distance = find_shortest_path(start, remaining_cities)\n",
    "    \n",
    "    return min_distance\n"
   ]
  },
  {
   "cell_type": "code",
   "execution_count": 6,
   "id": "4633eb83",
   "metadata": {},
   "outputs": [
    {
     "name": "stdout",
     "output_type": "stream",
     "text": [
      "Minimum Cost: 35\n"
     ]
    }
   ],
   "source": [
    "graph = [\n",
    "    [0, 10, 15, 20],\n",
    "    [5, 0, 9, 10],\n",
    "    [6, 13, 0, 12],\n",
    "    [8, 8, 9, 0]\n",
    "]\n",
    "\n",
    "min_cost = tsp_dp(graph, 0)\n",
    "print(\"Minimum Cost:\", min_cost)\n"
   ]
  },
  {
   "cell_type": "markdown",
   "id": "7d7e3327",
   "metadata": {},
   "source": [
    "# Find the Maximum Area of a Right-Angled Triangle for a Given Perimeter"
   ]
  },
  {
   "cell_type": "code",
   "execution_count": 7,
   "id": "65ec763e",
   "metadata": {},
   "outputs": [],
   "source": [
    "def find_max_triangle_area(perimeter):\n",
    "    max_area = 0.0\n",
    "    base, height = 0, 0\n",
    "\n",
    "    for a in range(1, perimeter):\n",
    "        for b in range(1, perimeter - a):\n",
    "            c = perimeter - a - b\n",
    "            if c ** 2 == a ** 2 + b ** 2:  # Check if it's a right-angled triangle\n",
    "                area = 0.5 * a * b\n",
    "                if area > max_area:\n",
    "                    max_area = area\n",
    "                    base, height = a, b\n",
    "\n",
    "    return max_area, base, height\n"
   ]
  },
  {
   "cell_type": "code",
   "execution_count": 8,
   "id": "6733f0d2",
   "metadata": {},
   "outputs": [],
   "source": [
    "# given perimeter as input\n",
    "perimeter = 40\n",
    "\n",
    "max_area, base, height = find_max_triangle_area(perimeter)"
   ]
  },
  {
   "cell_type": "code",
   "execution_count": 9,
   "id": "98c0f1a1",
   "metadata": {},
   "outputs": [
    {
     "data": {
      "text/plain": [
       "60.0"
      ]
     },
     "execution_count": 9,
     "metadata": {},
     "output_type": "execute_result"
    }
   ],
   "source": [
    "max_area"
   ]
  },
  {
   "cell_type": "code",
   "execution_count": 10,
   "id": "b8bd0af3",
   "metadata": {},
   "outputs": [
    {
     "data": {
      "text/plain": [
       "8"
      ]
     },
     "execution_count": 10,
     "metadata": {},
     "output_type": "execute_result"
    }
   ],
   "source": [
    "base"
   ]
  },
  {
   "cell_type": "code",
   "execution_count": 11,
   "id": "89de3603",
   "metadata": {},
   "outputs": [
    {
     "data": {
      "text/plain": [
       "15"
      ]
     },
     "execution_count": 11,
     "metadata": {},
     "output_type": "execute_result"
    }
   ],
   "source": [
    "height"
   ]
  },
  {
   "cell_type": "code",
   "execution_count": null,
   "id": "3d72f276",
   "metadata": {},
   "outputs": [],
   "source": []
  }
 ],
 "metadata": {
  "kernelspec": {
   "display_name": "Python 3",
   "language": "python",
   "name": "python3"
  },
  "language_info": {
   "codemirror_mode": {
    "name": "ipython",
    "version": 3
   },
   "file_extension": ".py",
   "mimetype": "text/x-python",
   "name": "python",
   "nbconvert_exporter": "python",
   "pygments_lexer": "ipython3",
   "version": "3.8.10"
  }
 },
 "nbformat": 4,
 "nbformat_minor": 5
}
